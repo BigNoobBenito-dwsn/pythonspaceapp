{
 "cells": [
  {
   "cell_type": "code",
   "id": "initial_id",
   "metadata": {
    "collapsed": true,
    "ExecuteTime": {
     "end_time": "2024-10-05T19:31:17.387164Z",
     "start_time": "2024-10-05T19:31:16.951543Z"
    }
   },
   "source": [
    "import pandas as pd\n",
    "import numpy as np\n",
    "df = pd.read_csv('PS_2024.10.05_11.27.16.csv')\n",
    "columns_to_keep = ['pl_name', 'pl_refname', 'ra', 'dec', 'sy_dist']\n",
    "df = df[columns_to_keep]\n",
    "df = df.drop_duplicates()\n",
    "df = df.dropna()\n",
    "print(df.head())"
   ],
   "outputs": [
    {
     "name": "stdout",
     "output_type": "stream",
     "text": [
      "    pl_name                                         pl_refname          ra  \\\n",
      "0  11 Com b  <a refstr=KUNITOMO_ET_AL__2011 href=https://ui...  185.178779   \n",
      "1  11 Com b  <a refstr=LIU_ET_AL__2008 href=https://ui.adsa...  185.178779   \n",
      "2  11 Com b  <a refstr=TENG_ET_AL__2023 href=https://ui.ads...  185.178779   \n",
      "3  11 UMi b  <a refstr=STASSUN_ET_AL__2017 href=https://ui....  229.274595   \n",
      "4  11 UMi b  <a refstr=KUNITOMO_ET_AL__2011 href=https://ui...  229.274595   \n",
      "\n",
      "         dec   sy_dist  \n",
      "0  17.793252   93.1846  \n",
      "1  17.793252   93.1846  \n",
      "2  17.793252   93.1846  \n",
      "3  71.823943  125.3210  \n",
      "4  71.823943  125.3210  \n"
     ]
    }
   ],
   "execution_count": 13
  },
  {
   "metadata": {
    "ExecuteTime": {
     "end_time": "2024-10-05T19:33:31.759590Z",
     "start_time": "2024-10-05T19:33:31.715198Z"
    }
   },
   "cell_type": "code",
   "source": [
    "df['parallax'] = (1/ df['sy_dist'])  * 1000\n",
    "print(df.head())\n",
    "df[\"X\"] = (1000 / df['parallax']) * np.sin(df['ra'])* np.cos(df['dec'])\n",
    "df[\"Y\"] = (1000 / df['parallax'])* np.sin(df['ra']) * np.sin(df['dec'])\n",
    "df[\"Z\"] = (1000 / df['parallax']) * np.cos(df['ra'])\n",
    "print(df.head())\n"
   ],
   "id": "769095992eff73c9",
   "outputs": [
    {
     "name": "stdout",
     "output_type": "stream",
     "text": [
      "    pl_name                                         pl_refname          ra  \\\n",
      "0  11 Com b  <a refstr=KUNITOMO_ET_AL__2011 href=https://ui...  185.178779   \n",
      "1  11 Com b  <a refstr=LIU_ET_AL__2008 href=https://ui.adsa...  185.178779   \n",
      "2  11 Com b  <a refstr=TENG_ET_AL__2023 href=https://ui.ads...  185.178779   \n",
      "3  11 UMi b  <a refstr=STASSUN_ET_AL__2017 href=https://ui....  229.274595   \n",
      "4  11 UMi b  <a refstr=KUNITOMO_ET_AL__2011 href=https://ui...  229.274595   \n",
      "\n",
      "         dec   sy_dist   parallax  \n",
      "0  17.793252   93.1846  10.731387  \n",
      "1  17.793252   93.1846  10.731387  \n",
      "2  17.793252   93.1846  10.731387  \n",
      "3  71.823943  125.3210   7.979509  \n",
      "4  71.823943  125.3210   7.979509  \n"
     ]
    },
    {
     "ename": "NameError",
     "evalue": "name 'np' is not defined",
     "output_type": "error",
     "traceback": [
      "\u001B[1;31m---------------------------------------------------------------------------\u001B[0m",
      "\u001B[1;31mNameError\u001B[0m                                 Traceback (most recent call last)",
      "Cell \u001B[1;32mIn[16], line 3\u001B[0m\n\u001B[0;32m      1\u001B[0m df[\u001B[38;5;124m'\u001B[39m\u001B[38;5;124mparallax\u001B[39m\u001B[38;5;124m'\u001B[39m] \u001B[38;5;241m=\u001B[39m (\u001B[38;5;241m1\u001B[39m\u001B[38;5;241m/\u001B[39m df[\u001B[38;5;124m'\u001B[39m\u001B[38;5;124msy_dist\u001B[39m\u001B[38;5;124m'\u001B[39m])  \u001B[38;5;241m*\u001B[39m \u001B[38;5;241m1000\u001B[39m\n\u001B[0;32m      2\u001B[0m \u001B[38;5;28mprint\u001B[39m(df\u001B[38;5;241m.\u001B[39mhead())\n\u001B[1;32m----> 3\u001B[0m df[\u001B[38;5;124m\"\u001B[39m\u001B[38;5;124mX\u001B[39m\u001B[38;5;124m\"\u001B[39m] \u001B[38;5;241m=\u001B[39m (\u001B[38;5;241m1000\u001B[39m \u001B[38;5;241m/\u001B[39m df[\u001B[38;5;124m'\u001B[39m\u001B[38;5;124mparallax\u001B[39m\u001B[38;5;124m'\u001B[39m]) \u001B[38;5;241m*\u001B[39m \u001B[43mnp\u001B[49m\u001B[38;5;241m.\u001B[39msin(df[\u001B[38;5;124m'\u001B[39m\u001B[38;5;124mra\u001B[39m\u001B[38;5;124m'\u001B[39m])\u001B[38;5;241m*\u001B[39m np\u001B[38;5;241m.\u001B[39mcos(df[\u001B[38;5;124m'\u001B[39m\u001B[38;5;124mdec\u001B[39m\u001B[38;5;124m'\u001B[39m])\n\u001B[0;32m      4\u001B[0m df[\u001B[38;5;124m\"\u001B[39m\u001B[38;5;124mY\u001B[39m\u001B[38;5;124m\"\u001B[39m] \u001B[38;5;241m=\u001B[39m (\u001B[38;5;241m1000\u001B[39m \u001B[38;5;241m/\u001B[39m df[\u001B[38;5;124m'\u001B[39m\u001B[38;5;124mparallax\u001B[39m\u001B[38;5;124m'\u001B[39m])\u001B[38;5;241m*\u001B[39m np\u001B[38;5;241m.\u001B[39msin(df[\u001B[38;5;124m'\u001B[39m\u001B[38;5;124mra\u001B[39m\u001B[38;5;124m'\u001B[39m]) \u001B[38;5;241m*\u001B[39m np\u001B[38;5;241m.\u001B[39msin(df[\u001B[38;5;124m'\u001B[39m\u001B[38;5;124mdec\u001B[39m\u001B[38;5;124m'\u001B[39m])\n\u001B[0;32m      5\u001B[0m df[\u001B[38;5;124m\"\u001B[39m\u001B[38;5;124mZ\u001B[39m\u001B[38;5;124m\"\u001B[39m] \u001B[38;5;241m=\u001B[39m (\u001B[38;5;241m1000\u001B[39m \u001B[38;5;241m/\u001B[39m df[\u001B[38;5;124m'\u001B[39m\u001B[38;5;124mparallax\u001B[39m\u001B[38;5;124m'\u001B[39m]) \u001B[38;5;241m*\u001B[39m np\u001B[38;5;241m.\u001B[39mcos(df[\u001B[38;5;124m'\u001B[39m\u001B[38;5;124mra\u001B[39m\u001B[38;5;124m'\u001B[39m])\n",
      "\u001B[1;31mNameError\u001B[0m: name 'np' is not defined"
     ]
    }
   ],
   "execution_count": 16
  },
  {
   "metadata": {},
   "cell_type": "code",
   "outputs": [],
   "execution_count": null,
   "source": "",
   "id": "37729a9664f7c569"
  }
 ],
 "metadata": {
  "kernelspec": {
   "display_name": "Python 3",
   "language": "python",
   "name": "python3"
  },
  "language_info": {
   "codemirror_mode": {
    "name": "ipython",
    "version": 2
   },
   "file_extension": ".py",
   "mimetype": "text/x-python",
   "name": "python",
   "nbconvert_exporter": "python",
   "pygments_lexer": "ipython2",
   "version": "2.7.6"
  }
 },
 "nbformat": 4,
 "nbformat_minor": 5
}
